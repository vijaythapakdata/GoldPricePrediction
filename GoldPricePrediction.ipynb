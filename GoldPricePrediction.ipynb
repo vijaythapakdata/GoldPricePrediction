{
  "nbformat": 4,
  "nbformat_minor": 0,
  "metadata": {
    "colab": {
      "name": "GoldPricePrediction.ipynb",
      "provenance": [],
      "mount_file_id": "1pZfPUNW8h2jhzJWA3OTcVBrQZN2sWnjD",
      "authorship_tag": "ABX9TyMlLCZmNJ6pLu5Xf6VGylQJ",
      "include_colab_link": true
    },
    "kernelspec": {
      "name": "python3",
      "display_name": "Python 3"
    },
    "language_info": {
      "name": "python"
    }
  },
  "cells": [
    {
      "cell_type": "markdown",
      "metadata": {
        "id": "view-in-github",
        "colab_type": "text"
      },
      "source": [
        "<a href=\"https://colab.research.google.com/github/vijaythapakdata/GoldPricePrediction/blob/main/GoldPricePrediction.ipynb\" target=\"_parent\"><img src=\"https://colab.research.google.com/assets/colab-badge.svg\" alt=\"Open In Colab\"/></a>"
      ]
    },
    {
      "cell_type": "markdown",
      "metadata": {
        "id": "aOc8Mnxf6mVE"
      },
      "source": [
        "Import important libraries "
      ]
    },
    {
      "cell_type": "code",
      "metadata": {
        "id": "j5GVV3G46P-s"
      },
      "source": [
        "import pandas as pd\n",
        "import numpy as np\n",
        "import matplotlib.pyplot as plt\n",
        "import seaborn as sns\n",
        "from sklearn.model_selection import train_test_split\n",
        "from sklearn import metrics\n",
        "from sklearn.ensemble import RandomForestRegressor\n"
      ],
      "execution_count": 127,
      "outputs": []
    },
    {
      "cell_type": "markdown",
      "metadata": {
        "id": "QQzhXoZn7XVr"
      },
      "source": [
        "Data collection"
      ]
    },
    {
      "cell_type": "code",
      "metadata": {
        "id": "QD1IY37o7ZKS"
      },
      "source": [
        "gold_data=pd.read_csv(\"/content/gld_price_data.csv\")"
      ],
      "execution_count": 128,
      "outputs": []
    },
    {
      "cell_type": "code",
      "metadata": {
        "colab": {
          "base_uri": "https://localhost:8080/",
          "height": 204
        },
        "id": "BXERWy6U7hey",
        "outputId": "17c51540-a8bc-4379-d6d2-d42fddc2f20c"
      },
      "source": [
        "#print the head of the dataset\n",
        "gold_data.head()"
      ],
      "execution_count": 129,
      "outputs": [
        {
          "output_type": "execute_result",
          "data": {
            "text/html": [
              "<div>\n",
              "<style scoped>\n",
              "    .dataframe tbody tr th:only-of-type {\n",
              "        vertical-align: middle;\n",
              "    }\n",
              "\n",
              "    .dataframe tbody tr th {\n",
              "        vertical-align: top;\n",
              "    }\n",
              "\n",
              "    .dataframe thead th {\n",
              "        text-align: right;\n",
              "    }\n",
              "</style>\n",
              "<table border=\"1\" class=\"dataframe\">\n",
              "  <thead>\n",
              "    <tr style=\"text-align: right;\">\n",
              "      <th></th>\n",
              "      <th>Date</th>\n",
              "      <th>SPX</th>\n",
              "      <th>GLD</th>\n",
              "      <th>USO</th>\n",
              "      <th>SLV</th>\n",
              "      <th>EUR/USD</th>\n",
              "    </tr>\n",
              "  </thead>\n",
              "  <tbody>\n",
              "    <tr>\n",
              "      <th>0</th>\n",
              "      <td>1/2/2008</td>\n",
              "      <td>1447.160034</td>\n",
              "      <td>84.860001</td>\n",
              "      <td>78.470001</td>\n",
              "      <td>15.180</td>\n",
              "      <td>1.471692</td>\n",
              "    </tr>\n",
              "    <tr>\n",
              "      <th>1</th>\n",
              "      <td>1/3/2008</td>\n",
              "      <td>1447.160034</td>\n",
              "      <td>85.570000</td>\n",
              "      <td>78.370003</td>\n",
              "      <td>15.285</td>\n",
              "      <td>1.474491</td>\n",
              "    </tr>\n",
              "    <tr>\n",
              "      <th>2</th>\n",
              "      <td>1/4/2008</td>\n",
              "      <td>1411.630005</td>\n",
              "      <td>85.129997</td>\n",
              "      <td>77.309998</td>\n",
              "      <td>15.167</td>\n",
              "      <td>1.475492</td>\n",
              "    </tr>\n",
              "    <tr>\n",
              "      <th>3</th>\n",
              "      <td>1/7/2008</td>\n",
              "      <td>1416.180054</td>\n",
              "      <td>84.769997</td>\n",
              "      <td>75.500000</td>\n",
              "      <td>15.053</td>\n",
              "      <td>1.468299</td>\n",
              "    </tr>\n",
              "    <tr>\n",
              "      <th>4</th>\n",
              "      <td>1/8/2008</td>\n",
              "      <td>1390.189941</td>\n",
              "      <td>86.779999</td>\n",
              "      <td>76.059998</td>\n",
              "      <td>15.590</td>\n",
              "      <td>1.557099</td>\n",
              "    </tr>\n",
              "  </tbody>\n",
              "</table>\n",
              "</div>"
            ],
            "text/plain": [
              "       Date          SPX        GLD        USO     SLV   EUR/USD\n",
              "0  1/2/2008  1447.160034  84.860001  78.470001  15.180  1.471692\n",
              "1  1/3/2008  1447.160034  85.570000  78.370003  15.285  1.474491\n",
              "2  1/4/2008  1411.630005  85.129997  77.309998  15.167  1.475492\n",
              "3  1/7/2008  1416.180054  84.769997  75.500000  15.053  1.468299\n",
              "4  1/8/2008  1390.189941  86.779999  76.059998  15.590  1.557099"
            ]
          },
          "metadata": {},
          "execution_count": 129
        }
      ]
    },
    {
      "cell_type": "code",
      "metadata": {
        "colab": {
          "base_uri": "https://localhost:8080/",
          "height": 204
        },
        "id": "fDQhDvmy7nzM",
        "outputId": "d24faf55-3c70-43ed-c649-56b1205650d6"
      },
      "source": [
        "#print the tail of the dataset\n",
        "gold_data.tail()"
      ],
      "execution_count": 130,
      "outputs": [
        {
          "output_type": "execute_result",
          "data": {
            "text/html": [
              "<div>\n",
              "<style scoped>\n",
              "    .dataframe tbody tr th:only-of-type {\n",
              "        vertical-align: middle;\n",
              "    }\n",
              "\n",
              "    .dataframe tbody tr th {\n",
              "        vertical-align: top;\n",
              "    }\n",
              "\n",
              "    .dataframe thead th {\n",
              "        text-align: right;\n",
              "    }\n",
              "</style>\n",
              "<table border=\"1\" class=\"dataframe\">\n",
              "  <thead>\n",
              "    <tr style=\"text-align: right;\">\n",
              "      <th></th>\n",
              "      <th>Date</th>\n",
              "      <th>SPX</th>\n",
              "      <th>GLD</th>\n",
              "      <th>USO</th>\n",
              "      <th>SLV</th>\n",
              "      <th>EUR/USD</th>\n",
              "    </tr>\n",
              "  </thead>\n",
              "  <tbody>\n",
              "    <tr>\n",
              "      <th>2285</th>\n",
              "      <td>5/8/2018</td>\n",
              "      <td>2671.919922</td>\n",
              "      <td>124.589996</td>\n",
              "      <td>14.0600</td>\n",
              "      <td>15.5100</td>\n",
              "      <td>1.186789</td>\n",
              "    </tr>\n",
              "    <tr>\n",
              "      <th>2286</th>\n",
              "      <td>5/9/2018</td>\n",
              "      <td>2697.790039</td>\n",
              "      <td>124.330002</td>\n",
              "      <td>14.3700</td>\n",
              "      <td>15.5300</td>\n",
              "      <td>1.184722</td>\n",
              "    </tr>\n",
              "    <tr>\n",
              "      <th>2287</th>\n",
              "      <td>5/10/2018</td>\n",
              "      <td>2723.070068</td>\n",
              "      <td>125.180000</td>\n",
              "      <td>14.4100</td>\n",
              "      <td>15.7400</td>\n",
              "      <td>1.191753</td>\n",
              "    </tr>\n",
              "    <tr>\n",
              "      <th>2288</th>\n",
              "      <td>5/14/2018</td>\n",
              "      <td>2730.129883</td>\n",
              "      <td>124.489998</td>\n",
              "      <td>14.3800</td>\n",
              "      <td>15.5600</td>\n",
              "      <td>1.193118</td>\n",
              "    </tr>\n",
              "    <tr>\n",
              "      <th>2289</th>\n",
              "      <td>5/16/2018</td>\n",
              "      <td>2725.780029</td>\n",
              "      <td>122.543800</td>\n",
              "      <td>14.4058</td>\n",
              "      <td>15.4542</td>\n",
              "      <td>1.182033</td>\n",
              "    </tr>\n",
              "  </tbody>\n",
              "</table>\n",
              "</div>"
            ],
            "text/plain": [
              "           Date          SPX         GLD      USO      SLV   EUR/USD\n",
              "2285   5/8/2018  2671.919922  124.589996  14.0600  15.5100  1.186789\n",
              "2286   5/9/2018  2697.790039  124.330002  14.3700  15.5300  1.184722\n",
              "2287  5/10/2018  2723.070068  125.180000  14.4100  15.7400  1.191753\n",
              "2288  5/14/2018  2730.129883  124.489998  14.3800  15.5600  1.193118\n",
              "2289  5/16/2018  2725.780029  122.543800  14.4058  15.4542  1.182033"
            ]
          },
          "metadata": {},
          "execution_count": 130
        }
      ]
    },
    {
      "cell_type": "code",
      "metadata": {
        "colab": {
          "base_uri": "https://localhost:8080/"
        },
        "id": "jFKgFwTT7vrU",
        "outputId": "f4b6f5ee-dd9d-4b26-f681-ba52cc834f3a"
      },
      "source": [
        "#check the index\n",
        "gold_data.index"
      ],
      "execution_count": 131,
      "outputs": [
        {
          "output_type": "execute_result",
          "data": {
            "text/plain": [
              "RangeIndex(start=0, stop=2290, step=1)"
            ]
          },
          "metadata": {},
          "execution_count": 131
        }
      ]
    },
    {
      "cell_type": "code",
      "metadata": {
        "colab": {
          "base_uri": "https://localhost:8080/"
        },
        "id": "vmosFYNL716N",
        "outputId": "68a02c02-935b-424a-bd2c-b37bc3bb0af3"
      },
      "source": [
        "#check inforamtion about dataset\n",
        "gold_data.info()"
      ],
      "execution_count": 132,
      "outputs": [
        {
          "output_type": "stream",
          "name": "stdout",
          "text": [
            "<class 'pandas.core.frame.DataFrame'>\n",
            "RangeIndex: 2290 entries, 0 to 2289\n",
            "Data columns (total 6 columns):\n",
            " #   Column   Non-Null Count  Dtype  \n",
            "---  ------   --------------  -----  \n",
            " 0   Date     2290 non-null   object \n",
            " 1   SPX      2290 non-null   float64\n",
            " 2   GLD      2290 non-null   float64\n",
            " 3   USO      2290 non-null   float64\n",
            " 4   SLV      2290 non-null   float64\n",
            " 5   EUR/USD  2290 non-null   float64\n",
            "dtypes: float64(5), object(1)\n",
            "memory usage: 107.5+ KB\n"
          ]
        }
      ]
    },
    {
      "cell_type": "code",
      "metadata": {
        "colab": {
          "base_uri": "https://localhost:8080/"
        },
        "id": "8FTW_JKl79Iq",
        "outputId": "f0335bad-0fd2-4b1a-df6f-63953a3f9267"
      },
      "source": [
        "#check the shape of our datasets\n",
        "gold_data.shape"
      ],
      "execution_count": 133,
      "outputs": [
        {
          "output_type": "execute_result",
          "data": {
            "text/plain": [
              "(2290, 6)"
            ]
          },
          "metadata": {},
          "execution_count": 133
        }
      ]
    },
    {
      "cell_type": "code",
      "metadata": {
        "colab": {
          "base_uri": "https://localhost:8080/"
        },
        "id": "B0jjtECt8DqQ",
        "outputId": "72a219de-2d38-4b5c-d91d-3584a2cd0d77"
      },
      "source": [
        "#check number of columns in our dataset\n",
        "gold_data.columns"
      ],
      "execution_count": 134,
      "outputs": [
        {
          "output_type": "execute_result",
          "data": {
            "text/plain": [
              "Index(['Date', 'SPX', 'GLD', 'USO', 'SLV', 'EUR/USD'], dtype='object')"
            ]
          },
          "metadata": {},
          "execution_count": 134
        }
      ]
    },
    {
      "cell_type": "code",
      "metadata": {
        "colab": {
          "base_uri": "https://localhost:8080/"
        },
        "id": "ihksdNdG8MOQ",
        "outputId": "b5b18447-7eb4-411e-f188-67195ca8794b"
      },
      "source": [
        "#check for null values\n",
        "gold_data.isnull().any()"
      ],
      "execution_count": 135,
      "outputs": [
        {
          "output_type": "execute_result",
          "data": {
            "text/plain": [
              "Date       False\n",
              "SPX        False\n",
              "GLD        False\n",
              "USO        False\n",
              "SLV        False\n",
              "EUR/USD    False\n",
              "dtype: bool"
            ]
          },
          "metadata": {},
          "execution_count": 135
        }
      ]
    },
    {
      "cell_type": "markdown",
      "metadata": {
        "id": "xPgx9E4T8XES"
      },
      "source": [
        "Check the correlation between all\n",
        "\n",
        "1->Negative Correlation\n",
        "2-> Positive correlation"
      ]
    },
    {
      "cell_type": "code",
      "metadata": {
        "id": "7kCm3UHE8h8w"
      },
      "source": [
        "correlation=gold_data.corr()"
      ],
      "execution_count": 136,
      "outputs": []
    },
    {
      "cell_type": "code",
      "metadata": {
        "colab": {
          "base_uri": "https://localhost:8080/"
        },
        "id": "wGVlkyy38njN",
        "outputId": "3db385fd-14d8-443c-f1d1-619a38277d96"
      },
      "source": [
        "correlation[\"SPX\"]"
      ],
      "execution_count": 137,
      "outputs": [
        {
          "output_type": "execute_result",
          "data": {
            "text/plain": [
              "SPX        1.000000\n",
              "GLD        0.049345\n",
              "USO       -0.591573\n",
              "SLV       -0.274055\n",
              "EUR/USD   -0.672017\n",
              "Name: SPX, dtype: float64"
            ]
          },
          "metadata": {},
          "execution_count": 137
        }
      ]
    },
    {
      "cell_type": "code",
      "metadata": {
        "colab": {
          "base_uri": "https://localhost:8080/"
        },
        "id": "DEr3BlF68tjV",
        "outputId": "8dbc26a2-35c3-4efd-9272-d593b99c733a"
      },
      "source": [
        "correlation[\"GLD\"]"
      ],
      "execution_count": 138,
      "outputs": [
        {
          "output_type": "execute_result",
          "data": {
            "text/plain": [
              "SPX        0.049345\n",
              "GLD        1.000000\n",
              "USO       -0.186360\n",
              "SLV        0.866632\n",
              "EUR/USD   -0.024375\n",
              "Name: GLD, dtype: float64"
            ]
          },
          "metadata": {},
          "execution_count": 138
        }
      ]
    },
    {
      "cell_type": "code",
      "metadata": {
        "colab": {
          "base_uri": "https://localhost:8080/"
        },
        "id": "zdMCFLwl82Ln",
        "outputId": "d1213234-c061-40fb-b28a-60266b5a256b"
      },
      "source": [
        "correlation['EUR/USD']"
      ],
      "execution_count": 100,
      "outputs": [
        {
          "output_type": "execute_result",
          "data": {
            "text/plain": [
              "SPX       -0.672017\n",
              "GLD       -0.024375\n",
              "USO        0.829317\n",
              "SLV        0.321631\n",
              "EUR/USD    1.000000\n",
              "Name: EUR/USD, dtype: float64"
            ]
          },
          "metadata": {},
          "execution_count": 100
        }
      ]
    },
    {
      "cell_type": "markdown",
      "metadata": {
        "id": "v14GLaXt86GA"
      },
      "source": [
        "Draw Heatmap to check the Visualization"
      ]
    },
    {
      "cell_type": "code",
      "metadata": {
        "colab": {
          "base_uri": "https://localhost:8080/",
          "height": 578
        },
        "id": "GHNovoZV899E",
        "outputId": "7fbccfbe-6ef9-4eb9-dea0-b609fad49f82"
      },
      "source": [
        "plt.figure(figsize=(10,10))\n",
        "sns.heatmap(correlation, square=True, cbar=True, annot=True, annot_kws={\"size\":8}, fmt=\".1f\", cmap=\"Blues\")\n",
        "plt.show()"
      ],
      "execution_count": 139,
      "outputs": [
        {
          "output_type": "display_data",
          "data": {
            "image/png": "[encoded data removed]",
            "text/plain": [
              "<Figure size 720x720 with 2 Axes>"
            ]
          },
          "metadata": {
            "needs_background": "light"
          }
        }
      ]
    },
    {
      "cell_type": "markdown",
      "metadata": {
        "id": "LAo4MQ9o9Wxr"
      },
      "source": [
        "Check Some Statistics"
      ]
    },
    {
      "cell_type": "code",
      "metadata": {
        "colab": {
          "base_uri": "https://localhost:8080/",
          "height": 297
        },
        "id": "bxaOz9lB9bXf",
        "outputId": "42d8b022-62d6-4149-c88e-f781d3b96f0f"
      },
      "source": [
        "gold_data.describe()"
      ],
      "execution_count": 140,
      "outputs": [
        {
          "output_type": "execute_result",
          "data": {
            "text/html": [
              "<div>\n",
              "<style scoped>\n",
              "    .dataframe tbody tr th:only-of-type {\n",
              "        vertical-align: middle;\n",
              "    }\n",
              "\n",
              "    .dataframe tbody tr th {\n",
              "        vertical-align: top;\n",
              "    }\n",
              "\n",
              "    .dataframe thead th {\n",
              "        text-align: right;\n",
              "    }\n",
              "</style>\n",
              "<table border=\"1\" class=\"dataframe\">\n",
              "  <thead>\n",
              "    <tr style=\"text-align: right;\">\n",
              "      <th></th>\n",
              "      <th>SPX</th>\n",
              "      <th>GLD</th>\n",
              "      <th>USO</th>\n",
              "      <th>SLV</th>\n",
              "      <th>EUR/USD</th>\n",
              "    </tr>\n",
              "  </thead>\n",
              "  <tbody>\n",
              "    <tr>\n",
              "      <th>count</th>\n",
              "      <td>2290.000000</td>\n",
              "      <td>2290.000000</td>\n",
              "      <td>2290.000000</td>\n",
              "      <td>2290.000000</td>\n",
              "      <td>2290.000000</td>\n",
              "    </tr>\n",
              "    <tr>\n",
              "      <th>mean</th>\n",
              "      <td>1654.315776</td>\n",
              "      <td>122.732875</td>\n",
              "      <td>31.842221</td>\n",
              "      <td>20.084997</td>\n",
              "      <td>1.283653</td>\n",
              "    </tr>\n",
              "    <tr>\n",
              "      <th>std</th>\n",
              "      <td>519.111540</td>\n",
              "      <td>23.283346</td>\n",
              "      <td>19.523517</td>\n",
              "      <td>7.092566</td>\n",
              "      <td>0.131547</td>\n",
              "    </tr>\n",
              "    <tr>\n",
              "      <th>min</th>\n",
              "      <td>676.530029</td>\n",
              "      <td>70.000000</td>\n",
              "      <td>7.960000</td>\n",
              "      <td>8.850000</td>\n",
              "      <td>1.039047</td>\n",
              "    </tr>\n",
              "    <tr>\n",
              "      <th>25%</th>\n",
              "      <td>1239.874969</td>\n",
              "      <td>109.725000</td>\n",
              "      <td>14.380000</td>\n",
              "      <td>15.570000</td>\n",
              "      <td>1.171313</td>\n",
              "    </tr>\n",
              "    <tr>\n",
              "      <th>50%</th>\n",
              "      <td>1551.434998</td>\n",
              "      <td>120.580002</td>\n",
              "      <td>33.869999</td>\n",
              "      <td>17.268500</td>\n",
              "      <td>1.303296</td>\n",
              "    </tr>\n",
              "    <tr>\n",
              "      <th>75%</th>\n",
              "      <td>2073.010070</td>\n",
              "      <td>132.840004</td>\n",
              "      <td>37.827501</td>\n",
              "      <td>22.882499</td>\n",
              "      <td>1.369971</td>\n",
              "    </tr>\n",
              "    <tr>\n",
              "      <th>max</th>\n",
              "      <td>2872.870117</td>\n",
              "      <td>184.589996</td>\n",
              "      <td>117.480003</td>\n",
              "      <td>47.259998</td>\n",
              "      <td>1.598798</td>\n",
              "    </tr>\n",
              "  </tbody>\n",
              "</table>\n",
              "</div>"
            ],
            "text/plain": [
              "               SPX          GLD          USO          SLV      EUR/USD\n",
              "count  2290.000000  2290.000000  2290.000000  2290.000000  2290.000000\n",
              "mean   1654.315776   122.732875    31.842221    20.084997     1.283653\n",
              "std     519.111540    23.283346    19.523517     7.092566     0.131547\n",
              "min     676.530029    70.000000     7.960000     8.850000     1.039047\n",
              "25%    1239.874969   109.725000    14.380000    15.570000     1.171313\n",
              "50%    1551.434998   120.580002    33.869999    17.268500     1.303296\n",
              "75%    2073.010070   132.840004    37.827501    22.882499     1.369971\n",
              "max    2872.870117   184.589996   117.480003    47.259998     1.598798"
            ]
          },
          "metadata": {},
          "execution_count": 140
        }
      ]
    },
    {
      "cell_type": "markdown",
      "metadata": {
        "id": "Z6Lqq45e9gpx"
      },
      "source": [
        "Check the Price distribution of gold"
      ]
    },
    {
      "cell_type": "code",
      "metadata": {
        "colab": {
          "base_uri": "https://localhost:8080/",
          "height": 391
        },
        "id": "hbCuhT8c9k_h",
        "outputId": "6cc658a0-a44a-4c2f-9878-4150149f561d"
      },
      "source": [
        "plt.figure(figsize=(7,5))\n",
        "sns.distplot(gold_data[\"GLD\"], color=\"grey\",label=\"Gold Price\")\n",
        "plt.legend()\n",
        "plt.show()"
      ],
      "execution_count": 141,
      "outputs": [
        {
          "output_type": "stream",
          "name": "stderr",
          "text": [
            "/usr/local/lib/python3.7/dist-packages/seaborn/distributions.py:2557: FutureWarning: `distplot` is a deprecated function and will be removed in a future version. Please adapt your code to use either `displot` (a figure-level function with similar flexibility) or `histplot` (an axes-level function for histograms).\n",
            "  warnings.warn(msg, FutureWarning)\n"
          ]
        },
        {
          "output_type": "display_data",
          "data": {
            "image/png": "[encoded data removed]",
            "text/plain": [
              "<Figure size 504x360 with 1 Axes>"
            ]
          },
          "metadata": {
            "needs_background": "light"
          }
        }
      ]
    },
    {
      "cell_type": "markdown",
      "metadata": {
        "id": "ySiJgSCC95NU"
      },
      "source": [
        "Seprate data "
      ]
    },
    {
      "cell_type": "code",
      "metadata": {
        "id": "rRi1a4v__BZd"
      },
      "source": [
        "X = gold_data.drop(['Date','GLD'],axis=1)\n",
        "Y = gold_data['GLD']"
      ],
      "execution_count": 142,
      "outputs": []
    },
    {
      "cell_type": "code",
      "metadata": {
        "colab": {
          "base_uri": "https://localhost:8080/"
        },
        "id": "5cItji5B_b9v",
        "outputId": "09e7a5cf-25fc-41db-c526-0370bb83c1cd"
      },
      "source": [
        "print(X)"
      ],
      "execution_count": 143,
      "outputs": [
        {
          "output_type": "stream",
          "name": "stdout",
          "text": [
            "              SPX        USO      SLV   EUR/USD\n",
            "0     1447.160034  78.470001  15.1800  1.471692\n",
            "1     1447.160034  78.370003  15.2850  1.474491\n",
            "2     1411.630005  77.309998  15.1670  1.475492\n",
            "3     1416.180054  75.500000  15.0530  1.468299\n",
            "4     1390.189941  76.059998  15.5900  1.557099\n",
            "...           ...        ...      ...       ...\n",
            "2285  2671.919922  14.060000  15.5100  1.186789\n",
            "2286  2697.790039  14.370000  15.5300  1.184722\n",
            "2287  2723.070068  14.410000  15.7400  1.191753\n",
            "2288  2730.129883  14.380000  15.5600  1.193118\n",
            "2289  2725.780029  14.405800  15.4542  1.182033\n",
            "\n",
            "[2290 rows x 4 columns]\n"
          ]
        }
      ]
    },
    {
      "cell_type": "code",
      "metadata": {
        "colab": {
          "base_uri": "https://localhost:8080/"
        },
        "id": "iBQJl2L9_fTe",
        "outputId": "a2788879-3ceb-4be7-d486-93e5c2d00cbb"
      },
      "source": [
        "print(Y)"
      ],
      "execution_count": 144,
      "outputs": [
        {
          "output_type": "stream",
          "name": "stdout",
          "text": [
            "0        84.860001\n",
            "1        85.570000\n",
            "2        85.129997\n",
            "3        84.769997\n",
            "4        86.779999\n",
            "           ...    \n",
            "2285    124.589996\n",
            "2286    124.330002\n",
            "2287    125.180000\n",
            "2288    124.489998\n",
            "2289    122.543800\n",
            "Name: GLD, Length: 2290, dtype: float64\n"
          ]
        }
      ]
    },
    {
      "cell_type": "markdown",
      "metadata": {
        "id": "Z9V23d2Q_oJR"
      },
      "source": [
        "Train test split"
      ]
    },
    {
      "cell_type": "code",
      "metadata": {
        "id": "Yv6sQwlj_nMU"
      },
      "source": [
        "x_train,x_test,y_train,y_test=train_test_split(X,Y,test_size=0.3,random_state=8)"
      ],
      "execution_count": 145,
      "outputs": []
    },
    {
      "cell_type": "code",
      "metadata": {
        "colab": {
          "base_uri": "https://localhost:8080/"
        },
        "id": "Xpg19IQ-_4uM",
        "outputId": "bfad01c5-7d55-4682-e004-fa5334151c19"
      },
      "source": [
        "print(x_train.shape,x_test.shape,y_train.shape,y_test.shape)"
      ],
      "execution_count": 146,
      "outputs": [
        {
          "output_type": "stream",
          "name": "stdout",
          "text": [
            "(1603, 4) (687, 4) (1603,) (687,)\n"
          ]
        }
      ]
    },
    {
      "cell_type": "markdown",
      "metadata": {
        "id": "NBXigz-rABPw"
      },
      "source": [
        "Model fittieng"
      ]
    },
    {
      "cell_type": "code",
      "metadata": {
        "id": "rFqQqTw0ADjH"
      },
      "source": [
        "regressor=RandomForestRegressor(n_estimators=100) #n_estimator=100 it is bydefault"
      ],
      "execution_count": 147,
      "outputs": []
    },
    {
      "cell_type": "code",
      "metadata": {
        "colab": {
          "base_uri": "https://localhost:8080/"
        },
        "id": "4Ye3di9pCmY9",
        "outputId": "9022aed7-1b5d-414e-bb4f-f77b5b8c973c"
      },
      "source": [
        "regressor.fit(x_train,y_train)"
      ],
      "execution_count": 148,
      "outputs": [
        {
          "output_type": "execute_result",
          "data": {
            "text/plain": [
              "RandomForestRegressor(bootstrap=True, ccp_alpha=0.0, criterion='mse',\n",
              "                      max_depth=None, max_features='auto', max_leaf_nodes=None,\n",
              "                      max_samples=None, min_impurity_decrease=0.0,\n",
              "                      min_impurity_split=None, min_samples_leaf=1,\n",
              "                      min_samples_split=2, min_weight_fraction_leaf=0.0,\n",
              "                      n_estimators=100, n_jobs=None, oob_score=False,\n",
              "                      random_state=None, verbose=0, warm_start=False)"
            ]
          },
          "metadata": {},
          "execution_count": 148
        }
      ]
    },
    {
      "cell_type": "markdown",
      "metadata": {
        "id": "GPeuM7TLC4NS"
      },
      "source": [
        "Model Evalutaion"
      ]
    },
    {
      "cell_type": "code",
      "metadata": {
        "colab": {
          "base_uri": "https://localhost:8080/"
        },
        "id": "7tosYnGkC7u3",
        "outputId": "07107fd2-0adc-4548-c21b-5e57d2bcc5fc"
      },
      "source": [
        "x_train_prediction=regressor.predict(x_train)\n",
        "x_train_prediction"
      ],
      "execution_count": 149,
      "outputs": [
        {
          "output_type": "execute_result",
          "data": {
            "text/plain": [
              "array([126.16079752, 127.20489933,  91.12670011, ..., 114.56020192,\n",
              "       131.51369709, 105.83009996])"
            ]
          },
          "metadata": {},
          "execution_count": 149
        }
      ]
    },
    {
      "cell_type": "code",
      "metadata": {
        "colab": {
          "base_uri": "https://localhost:8080/"
        },
        "id": "oFB9L-RgDQjq",
        "outputId": "06d75f35-b388-4746-e1d9-20ec5e54ebe0"
      },
      "source": [
        "#R squared \n",
        "error_score=metrics.r2_score(x_train_prediction,y_train)\n",
        "\n",
        "print(\"The R squared is \", error_score)"
      ],
      "execution_count": 152,
      "outputs": [
        {
          "output_type": "stream",
          "name": "stdout",
          "text": [
            "The R squared is  0.998089250658666\n"
          ]
        }
      ]
    },
    {
      "cell_type": "code",
      "metadata": {
        "colab": {
          "base_uri": "https://localhost:8080/"
        },
        "id": "fzEpdP21DlBG",
        "outputId": "bb2f2318-3d76-45e7-92e6-d82971144762"
      },
      "source": [
        "#Mean absoulte error\n",
        "\n",
        "error_score1=metrics.mean_absolute_error(x_train_prediction,y_train)\n",
        "\n",
        "print(\"The mean absolute error is\", error_score1)"
      ],
      "execution_count": 153,
      "outputs": [
        {
          "output_type": "stream",
          "name": "stdout",
          "text": [
            "The mean absolute error is 0.5206701555271321\n"
          ]
        }
      ]
    },
    {
      "cell_type": "markdown",
      "metadata": {
        "id": "GBTmYTZrD48D"
      },
      "source": [
        "R Squared for test dat"
      ]
    },
    {
      "cell_type": "code",
      "metadata": {
        "colab": {
          "base_uri": "https://localhost:8080/"
        },
        "id": "Zzq43M-aD8rl",
        "outputId": "3e27857c-f00b-4a78-c13d-e486146909ac"
      },
      "source": [
        "x_test_prediction=regressor.predict(x_test)\n",
        "x_test_prediction"
      ],
      "execution_count": 154,
      "outputs": [
        {
          "output_type": "execute_result",
          "data": {
            "text/plain": [
              "array([103.57649942,  75.57550045,  88.27769894, 109.00269981,\n",
              "       146.20640035, 111.01979939,  91.02399756, 137.63189989,\n",
              "       170.8608984 , 114.07310075, 154.76410058,  91.05859927,\n",
              "       150.74880068, 116.32919784, 121.37429997, 136.67289967,\n",
              "        96.40100087, 168.79399952, 121.69900071,  94.52869862,\n",
              "       118.15420044, 127.98020169, 119.95510076, 108.1559004 ,\n",
              "       171.72009964, 162.44810283, 126.3071005 , 120.04430074,\n",
              "       114.10060049, 114.54620104, 127.22690015,  81.1970995 ,\n",
              "       156.4799023 , 101.46419969,  81.62209868,  89.50699973,\n",
              "       139.68929888, 108.24189814, 129.26349854, 107.07929959,\n",
              "        92.29019931,  91.16960161, 115.18429872, 108.91600077,\n",
              "       168.55879729, 133.49140233, 122.40610052, 105.72749927,\n",
              "        87.82939843, 156.2994032 , 125.95660078, 127.76540232,\n",
              "       117.8440009 , 121.36879962, 144.05499929, 167.01659634,\n",
              "        73.46760056,  85.77870032, 122.50280053, 135.10099601,\n",
              "       173.41769854, 107.16869998, 111.55969925, 171.5534008 ,\n",
              "       121.67000015, 121.97399917, 170.35910022, 108.70010116,\n",
              "       126.6058993 ,  86.63289961, 135.80859819, 114.00970063,\n",
              "       128.19350231, 126.23810088, 154.30940322, 166.9580014 ,\n",
              "       160.22010016, 113.60459999, 111.24139996, 164.41399945,\n",
              "       163.42780176, 130.57699983, 120.03629969, 123.37239927,\n",
              "       177.54089925,  88.68749995, 160.96350074, 115.92450041,\n",
              "        95.20280163,  92.64540122,  94.49640204,  86.97549949,\n",
              "        87.15629805, 118.36619977, 171.4439987 , 116.67710015,\n",
              "        95.83140176, 109.04260047, 102.94869942, 118.22870035,\n",
              "       109.62909897, 127.722699  , 107.26419859, 110.44149964,\n",
              "       131.13760261,  72.31849984,  87.14789963,  92.2854998 ,\n",
              "       126.25539984, 126.08480023, 121.97019973, 172.64469897,\n",
              "       119.3768011 , 124.77619983, 147.18820119, 120.04039902,\n",
              "       144.55339954, 124.31779913,  93.9965001 , 162.79910031,\n",
              "        77.36589948, 119.09979966, 123.73359961, 140.5582002 ,\n",
              "       120.37190135, 114.55800059, 126.0037005 , 115.3186996 ,\n",
              "       119.64080188, 122.57449893,  92.17399994, 125.78110009,\n",
              "       109.56480027, 127.69960101, 128.22840151, 124.79639874,\n",
              "       149.9751021 , 113.70720041, 110.82769869, 112.46839917,\n",
              "       157.82840116, 118.17900102, 132.12459859,  90.77339884,\n",
              "       127.27470035, 126.43710011,  96.85219992, 117.86120119,\n",
              "        89.71729957, 120.80949911, 160.89239853, 119.9630994 ,\n",
              "       102.56559875, 102.41010102, 160.36280489, 154.78330185,\n",
              "       114.68260069, 129.87919811, 125.33959874, 122.10979946,\n",
              "       172.27649745,  80.72219909, 118.43570028, 106.11299876,\n",
              "       129.88669912, 131.37980032,  95.11730069, 113.01659905,\n",
              "       169.9866009 , 132.72320233, 152.67590348, 140.93960131,\n",
              "       166.50809967, 157.59140124,  82.73240122, 112.35089984,\n",
              "       127.14770117, 118.55170145, 115.74470022, 103.78879897,\n",
              "        73.90370116, 125.84799875,  89.89910141, 128.76459867,\n",
              "       122.39509945,  91.5547005 , 117.20369993, 121.44530066,\n",
              "       115.16960118, 164.26200147, 127.8751028 , 110.43810011,\n",
              "       119.3176996 , 150.25669792, 162.91659947, 126.78789977,\n",
              "       176.09499892, 114.72479875, 149.44340091, 124.3060999 ,\n",
              "       168.15309837, 158.01269882, 113.53930032, 123.26039978,\n",
              "       124.19109969, 127.16590011,  88.86339901, 149.18139892,\n",
              "       142.56390104,  93.74320131,  86.15169795, 107.60310076,\n",
              "        91.75240201, 119.90400116, 117.8433989 , 170.22459699,\n",
              "        88.1582989 , 127.51180096, 110.01700014,  90.92739832,\n",
              "       117.92989836, 109.91879983, 124.61699904,  96.15870085,\n",
              "       131.55360285, 171.85170083, 160.60810194, 127.6047976 ,\n",
              "       111.82049939, 120.01129915, 113.09970021,  74.85230129,\n",
              "        80.86449893, 106.95879958, 126.36579997, 159.27760281,\n",
              "       170.87490019, 128.29010147, 121.84909982, 113.25360014,\n",
              "       165.46689776, 164.08089992, 117.79030122, 120.3460993 ,\n",
              "       119.31670082, 126.09630051, 157.29880178, 127.51839928,\n",
              "       117.66390203, 117.73500019, 127.11240014,  96.98400241,\n",
              "       172.40620034, 117.56290096, 115.75509974, 119.86930036,\n",
              "       110.48819841, 166.80610352, 160.43929834, 119.9073998 ,\n",
              "       108.12609893, 120.95840008, 134.36849996,  88.4312996 ,\n",
              "       125.91060016, 115.24980072, 117.70500081,  86.5453979 ,\n",
              "       125.56100043, 156.16860337, 115.71120034, 121.06329981,\n",
              "       144.19119989, 170.44660184, 119.25169928, 170.7191003 ,\n",
              "       121.44899909, 113.62090018, 107.12170047, 119.61389957,\n",
              "       126.84220057, 155.24800218, 127.51749761, 122.9678001 ,\n",
              "       131.78490326,  88.94629999,  89.21499968, 118.15220014,\n",
              "       166.40970067, 162.24459811, 108.26799915, 118.87369943,\n",
              "       164.84950163,  94.503801  ,  91.64760187, 153.92690068,\n",
              "       125.25500069, 127.47879831,  97.99009974, 120.64540017,\n",
              "       153.55719865, 128.04430073, 102.41219855, 108.74670034,\n",
              "       141.24539849, 125.23610033, 127.42069959,  73.06970127,\n",
              "       117.31150092, 121.39809972, 119.59919888, 104.9135014 ,\n",
              "       121.26489998, 167.26619836, 127.25889911, 170.68619749,\n",
              "        89.03559896, 172.40429907,  92.42200085, 127.48530079,\n",
              "       172.28369895, 154.82970221, 152.91070013, 125.4228994 ,\n",
              "       177.06149727, 132.00279913, 125.29720059, 112.88020085,\n",
              "       117.53240085, 127.84729968, 139.27110246, 112.92689902,\n",
              "       117.97449959, 118.70810016, 156.37569996, 127.98120097,\n",
              "       120.21490203, 119.99699922,  72.78350192, 117.74860045,\n",
              "       133.75949982,  93.93540118, 170.73729946, 125.10979978,\n",
              "       115.32990166, 108.0131996 , 168.06230088, 111.74520031,\n",
              "       155.12399952, 115.12440076, 126.58400077, 120.40839986,\n",
              "       131.83279828, 123.5171995 , 120.00110065, 121.60019977,\n",
              "       118.52259808, 114.52290093, 108.72519986, 113.29010113,\n",
              "       131.26210286, 160.90579813, 132.1750995 , 112.41959985,\n",
              "       114.3753999 , 125.35969981, 134.71439859, 119.55940084,\n",
              "       114.48219906, 115.08110009, 118.35049885, 118.01990038,\n",
              "       145.1343998 , 140.13550191, 113.86169889, 141.11250088,\n",
              "       176.69060216, 107.59290072, 125.48229936, 108.55770044,\n",
              "        88.69439976, 144.58129846, 117.76329972, 128.17840016,\n",
              "       101.53960032, 173.30519876, 135.75989825,  81.30309834,\n",
              "       114.27120079, 108.69840044,  84.34389932, 153.56460233,\n",
              "       118.01930141, 119.67440061, 109.17359997,  94.43930218,\n",
              "       136.06499954, 159.14800466, 127.78720025,  92.71160065,\n",
              "       120.87820005, 141.19080096,  97.82740009, 121.74960038,\n",
              "       162.87870075, 166.91519919, 112.09540017,  77.46219894,\n",
              "        83.6229988 , 110.18400009,  90.85860025, 114.53580108,\n",
              "        88.25719906, 112.82979902,  95.20470223,  75.02600135,\n",
              "        85.64339986, 162.36109788, 134.22860086, 150.89780207,\n",
              "       148.02929938,  94.99569835,  85.22820037, 125.60439942,\n",
              "       163.78979929, 110.17060051, 101.46740028, 124.78419952,\n",
              "       104.2749986 , 108.34089778, 121.90219951, 134.94030089,\n",
              "        98.95119978, 134.35569981, 156.27430195, 126.6459996 ,\n",
              "       164.02590219, 152.25620215, 107.18859863, 124.91530073,\n",
              "       171.85149814, 154.37080188, 112.81070096, 120.80159799,\n",
              "       154.7652011 , 119.44649966, 127.37050153, 106.90999893,\n",
              "       120.77520169, 127.68599874, 141.22799972, 120.32110077,\n",
              "       130.84840061,  92.79100095, 117.41900111,  91.48430051,\n",
              "       166.37510003, 108.58999859, 120.74710079,  93.91130139,\n",
              "       114.1481003 , 113.15330047, 111.99690058, 123.80180008,\n",
              "       159.07870249, 118.99199935, 159.36310234, 135.46680086,\n",
              "       155.90810088,  94.17490055, 113.02560123, 112.37819879,\n",
              "       125.47160075, 102.07929996, 119.48080035, 115.86290103,\n",
              "        90.59959956, 116.95519893, 120.3926003 , 153.35140091,\n",
              "       172.17029979, 156.71379781, 163.68750065, 146.61089912,\n",
              "       125.4673999 , 165.94119884, 147.85950109, 111.94910003,\n",
              "       125.71670141, 101.86869847,  91.38739949,  83.5072989 ,\n",
              "       140.68140252, 125.81440166, 139.91529948, 107.16330018,\n",
              "       115.75300045, 153.56400138, 161.41200125, 163.41149973,\n",
              "       120.85510033, 173.9205985 , 151.82800124, 112.38289985,\n",
              "       121.1142998 , 116.76020165, 101.87289804, 114.72960027,\n",
              "       118.54149966,  85.86649825, 144.00439831, 114.90500005,\n",
              "       164.19340072,  78.74369983, 106.75010058,  91.95099861,\n",
              "       118.74319967, 118.40140031, 166.92160186, 122.75740063,\n",
              "        77.88080025, 150.14050127, 101.66949832, 167.26469914,\n",
              "       119.78760215, 105.62700056, 128.10019911, 177.55200155,\n",
              "       117.6261022 ,  75.67350013, 130.09339875,  93.50870099,\n",
              "       109.66009804, 120.64029969, 121.45969977,  73.83000025,\n",
              "        94.80880104, 126.4216995 , 121.63499926, 131.59430289,\n",
              "       122.57179783, 130.07139861, 102.8667996 ,  98.2369011 ,\n",
              "        86.82829992,  90.73940077, 119.18520025, 121.69170096,\n",
              "        84.84290005, 118.47770092, 114.71740102, 127.71020123,\n",
              "       158.03449781, 135.2291977 , 127.84790101, 126.2533009 ,\n",
              "       125.05640051, 154.10200093,  90.0704994 , 159.44810266,\n",
              "       101.82009969, 154.08470223,  83.7612991 , 105.92950107,\n",
              "       111.26310001, 118.98940011, 157.9915974 , 117.5665012 ,\n",
              "       115.28459977, 173.03009773,  85.95989963, 113.99350118,\n",
              "       151.91110126,  92.71620062, 114.03050057, 113.72370092,\n",
              "       127.87209982, 120.4354986 , 128.8152985 , 122.716899  ,\n",
              "       132.70950222, 156.22589894, 120.05920052, 169.26470191,\n",
              "       122.86769942, 124.13389973, 124.37979906, 117.79999835,\n",
              "       110.12450026, 162.44510309, 124.85459946, 113.45990029,\n",
              "       113.19290122, 120.84580112, 115.24529992, 118.63890025,\n",
              "       116.41210161, 145.98350006,  89.76039956, 108.15209982,\n",
              "        87.41509834, 131.96260367, 118.04109998, 155.68519977,\n",
              "        88.10589892, 115.49860032, 125.67820038, 125.25000011,\n",
              "       122.7757004 , 119.00413839,  85.86059798, 128.56460202,\n",
              "       110.8500001 , 120.25569903, 111.53860044, 162.10650194,\n",
              "       128.11690163, 123.77769949, 124.63580005, 117.99850022,\n",
              "       125.45479957, 111.22209917, 102.65799879, 121.36449873,\n",
              "       168.14109615, 122.96029881, 119.62719974, 108.26339777,\n",
              "       125.13730044, 165.60500113, 117.51579989, 164.69930175,\n",
              "       117.61520122, 117.01099978, 117.2638998 , 165.45869738,\n",
              "       118.91180122, 116.79450128, 126.09689782, 111.41400042,\n",
              "       123.52259971, 107.8514998 , 127.95540193, 118.66399986,\n",
              "       149.49139765,  87.64000058,  93.48640075, 135.26989918,\n",
              "       119.93039996, 118.72810097, 107.4703006 , 154.19840146,\n",
              "       109.39600094,  93.17990158, 112.49790044, 111.07509977,\n",
              "        90.84879898, 129.06919931, 112.05440055, 127.92249967,\n",
              "       115.20280004, 166.54350188, 108.38479804, 154.60710112,\n",
              "       167.08309812, 102.81879957, 135.73369879, 110.37129908,\n",
              "       109.12579941, 119.78389992, 159.72260244,  84.56059796,\n",
              "        96.1130011 , 118.57379958, 154.16520237,  83.85470074,\n",
              "       123.13679985, 104.18869975, 107.29609971, 119.50610117,\n",
              "       118.8212001 ,  83.24430037, 120.72750035, 123.51649981,\n",
              "        87.38499969, 103.66659827, 107.39719991])"
            ]
          },
          "metadata": {},
          "execution_count": 154
        }
      ]
    },
    {
      "cell_type": "code",
      "metadata": {
        "colab": {
          "base_uri": "https://localhost:8080/"
        },
        "id": "m0N1SaifEHBz",
        "outputId": "38ae98f0-21c3-4461-c1ce-b75ada485a2a"
      },
      "source": [
        "#R squared error\n",
        "error_score2=metrics.r2_score(x_test_prediction,y_test)\n",
        "\n",
        "print(\"The R squared for test data is\", error_score2)"
      ],
      "execution_count": 155,
      "outputs": [
        {
          "output_type": "stream",
          "name": "stdout",
          "text": [
            "The R squared for test data is 0.9862868649892913\n"
          ]
        }
      ]
    },
    {
      "cell_type": "markdown",
      "metadata": {
        "id": "vWDH3NsrEXj4"
      },
      "source": [
        "Data Visualization"
      ]
    },
    {
      "cell_type": "code",
      "metadata": {
        "id": "UQ2UzkK0FctI"
      },
      "source": [
        "y_test=list(y_test)"
      ],
      "execution_count": 156,
      "outputs": []
    },
    {
      "cell_type": "code",
      "metadata": {
        "colab": {
          "base_uri": "https://localhost:8080/",
          "height": 458
        },
        "id": "58D_ebteEjlZ",
        "outputId": "3920f275-a2bb-4acc-f57a-ddf675f0d750"
      },
      "source": [
        "plt.figure(figsize=(7,7))\n",
        "plt.plot(y_test,color=\"darkgreen\", label=\"Actual Values\")\n",
        "plt.plot(x_test_prediction, color=\"blue\", label=\"Predicted values\")\n",
        "plt.xlabel(\"Number of Values\")\n",
        "plt.ylabel(\"Gold Price\")\n",
        "plt.legend()\n",
        "plt.title(\"Actual Price Vs Predicted Price of Gold\")\n",
        "plt.show()"
      ],
      "execution_count": 157,
      "outputs": [
        {
          "output_type": "display_data",
          "data": {
            "image/png": "[encoded data removed]",
            "text/plain": [
              "<Figure size 504x504 with 1 Axes>"
            ]
          },
          "metadata": {
            "needs_background": "light"
          }
        }
      ]
    },
    {
      "cell_type": "markdown",
      "metadata": {
        "id": "RuoBAv0bF0yS"
      },
      "source": [
        "# Training data visualization"
      ]
    },
    {
      "cell_type": "code",
      "metadata": {
        "id": "I4N33SzYGqoU"
      },
      "source": [
        "y_train=list(y_train)"
      ],
      "execution_count": 158,
      "outputs": []
    },
    {
      "cell_type": "code",
      "metadata": {
        "colab": {
          "base_uri": "https://localhost:8080/",
          "height": 458
        },
        "id": "7qCOghbsGywy",
        "outputId": "e014f644-2a6b-49b6-8300-0268b39bb1ff"
      },
      "source": [
        "plt.figure(figsize=(7,7))\n",
        "plt.plot(y_train,color=\"darkgreen\", label=\"Actual Values\")\n",
        "plt.plot(x_train_prediction, color=\"blue\", label=\"Predicted values\")\n",
        "plt.xlabel(\"Number of Values\")\n",
        "plt.ylabel(\"Gold Price\")\n",
        "plt.legend()\n",
        "plt.title(\"Actual Price Vs Predicted Price of Gold\")\n",
        "plt.show()"
      ],
      "execution_count": 159,
      "outputs": [
        {
          "output_type": "display_data",
          "data": {
            "image/png": "[encoded data removed]",
            "text/plain": [
              "<Figure size 504x504 with 1 Axes>"
            ]
          },
          "metadata": {
            "needs_background": "light"
          }
        }
      ]
    }
  ]
}